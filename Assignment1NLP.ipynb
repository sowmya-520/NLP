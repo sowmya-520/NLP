{
  "nbformat": 4,
  "nbformat_minor": 0,
  "metadata": {
    "colab": {
      "name": "Assignment1NLP.ipynb",
      "provenance": [],
      "collapsed_sections": [],
      "authorship_tag": "ABX9TyPfOGH5+/PgXh68tkcHvVzp",
      "include_colab_link": true
    },
    "kernelspec": {
      "name": "python3",
      "display_name": "Python 3"
    },
    "language_info": {
      "name": "python"
    }
  },
  "cells": [
    {
      "cell_type": "markdown",
      "metadata": {
        "id": "view-in-github",
        "colab_type": "text"
      },
      "source": [
        "<a href=\"https://colab.research.google.com/github/sowmya-520/NLP/blob/main/Assignment1NLP.ipynb\" target=\"_parent\"><img src=\"https://colab.research.google.com/assets/colab-badge.svg\" alt=\"Open In Colab\"/></a>"
      ]
    },
    {
      "cell_type": "markdown",
      "source": [
        "# ASSIGNMENT1"
      ],
      "metadata": {
        "id": "pm5M4jpn96_n"
      }
    },
    {
      "cell_type": "markdown",
      "source": [
        "3.Find stem and lemma words for the given words?\n",
        "\n",
        "\n",
        "“cats\"\n",
        "\n",
        "\"trouble\"\n",
        "\n",
        "\"troubling\"\n",
        "\n",
        "\"troubled\"\n",
        "\n",
        "“having”\n",
        "\n",
        "“Corriendo”\n",
        "\n",
        "“at”\n",
        "\n",
        "“was”"
      ],
      "metadata": {
        "id": "CeUYjEp09oeU"
      }
    },
    {
      "cell_type": "code",
      "execution_count": 4,
      "metadata": {
        "colab": {
          "base_uri": "https://localhost:8080/"
        },
        "id": "UinTYpd8XJTH",
        "outputId": "62139531-2c31-4be4-debd-eaf1281bb2b5"
      },
      "outputs": [
        {
          "output_type": "stream",
          "name": "stdout",
          "text": [
            "ACTUAL WORDS :  STEM WORDS\n",
            "cats : cat\n",
            "trouble : troubl\n",
            "troubling : troubl\n",
            "troubled : troubl\n",
            "having : have\n",
            "Corriendo : corriendo\n",
            "at : at\n",
            "was : wa\n"
          ]
        }
      ],
      "source": [
        "# import modules\n",
        "from nltk.stem import PorterStemmer\n",
        " \n",
        "st = PorterStemmer()\n",
        "words=[\"cats\",\"trouble\",\"troubling\",\"troubled\",\"having\",\"Corriendo\",\"at\",\"was\"] \n",
        "print(\"ACTUAL WORDS :  STEM WORDS\")\n",
        "for w in words:\n",
        "    print(w, \":\", st.stem(w))"
      ]
    },
    {
      "cell_type": "code",
      "source": [
        "from nltk.stem import WordNetLemmatizer\n",
        "  \n",
        "lemmatizer = WordNetLemmatizer()\n",
        "\n",
        "words=[\"cats\",\"trouble\",\"troubling\",\"troubled\",\"having\",\"Corriendo\",\"at\",\"was\"] \n",
        "print(\"ACTUAL WORDS :  LEMMA WORDS\")\n",
        "for w in words:\n",
        "    print(w,\":\", lemmatizer.lemmatize(w))\n",
        "\n"
      ],
      "metadata": {
        "colab": {
          "base_uri": "https://localhost:8080/"
        },
        "id": "Ip5Xv8G7uQgX",
        "outputId": "8309b748-ba71-4a18-f12f-97ddb143aba4"
      },
      "execution_count": 22,
      "outputs": [
        {
          "output_type": "stream",
          "name": "stdout",
          "text": [
            "ACTUAL WORDS :  LEMMA WORDS\n",
            "cats : cat\n",
            "trouble : trouble\n",
            "troubling : troubling\n",
            "troubled : troubled\n",
            "having : having\n",
            "Corriendo : Corriendo\n",
            "at : at\n",
            "was : wa\n"
          ]
        }
      ]
    },
    {
      "cell_type": "markdown",
      "source": [
        "6. Find (term * Doc) matrix using TF-IDF? And find cosine similarity between DOC 1 and DOC 2?\n",
        "\n",
        "DCO 1: A computer network is a set of computers sharing resources located on or provided by network nodes. The computers use common communication protocols over digital interconnections to communicate with each other. \n",
        "\n",
        "DOC 2: An operating system (OS) is system software that manages computer hardware, software resources, and provides common services for computer programs.\n",
        "Time-sharing operating systems schedule tasks for efficient use of the system and may also include accounting software for cost allocation of processor time, mass storage, printing, and other resources.\n",
        "\n",
        "DOC 3: An operating system (OS) is the program that, after being initially loaded into the computer by a boot program, manages all of the other application programs in a computer. The application programs make use of the operating system by making requests for services through a defined application program interface (API). "
      ],
      "metadata": {
        "id": "2XdO2YIQ-Mr9"
      }
    },
    {
      "cell_type": "code",
      "source": [
        "DOC_text = ['A computer network is a set of computers sharing resources located on or provided by network nodes. The computers use common communication protocols over digital interconnections to communicate with each other.',\n",
        "'An operating system (OS) is system software that manages computer hardware, software resources, and provides common services for computer programs. Time-sharing operating systems schedule tasks for efficient use of the system and may also include accounting software for cost allocation of processor time, mass storage, printing, and other resources.',\n",
        "'An operating system (OS) is the program that, after being initially loaded into the computer by a boot program, manages all of the other application programs in a computer. The application programs make use of the operating system by making requests for services through a defined application program interface (API).']"
      ],
      "metadata": {
        "id": "C1hmv0Zj1Fqn"
      },
      "execution_count": 23,
      "outputs": []
    },
    {
      "cell_type": "markdown",
      "source": [
        "**FINDING MATRIX**"
      ],
      "metadata": {
        "id": "TL6QL2w8-ujT"
      }
    },
    {
      "cell_type": "code",
      "source": [
        "from sklearn.feature_extraction.text import TfidfVectorizer\n",
        "from sklearn.metrics.pairwise import cosine_similarity\n",
        "vectoriser = TfidfVectorizer()\n",
        "res = vectoriser.fit_transform(DOC_text)\n",
        "print(\"Matrix Shape  \", res.shape)\n",
        "print(res.toarray())"
      ],
      "metadata": {
        "colab": {
          "base_uri": "https://localhost:8080/"
        },
        "id": "-CzKobAj7hA3",
        "outputId": "9e760c7a-cfcb-4948-f04f-a888cee560a9"
      },
      "execution_count": 35,
      "outputs": [
        {
          "output_type": "stream",
          "name": "stdout",
          "text": [
            "Matrix Shape   (3, 72)\n",
            "[[0.         0.         0.         0.         0.         0.\n",
            "  0.         0.         0.         0.         0.         0.14527359\n",
            "  0.14527359 0.19101731 0.19101731 0.1128179  0.38203462 0.\n",
            "  0.         0.19101731 0.19101731 0.         0.         0.\n",
            "  0.         0.         0.         0.19101731 0.         0.\n",
            "  0.1128179  0.         0.19101731 0.         0.         0.\n",
            "  0.         0.         0.38203462 0.19101731 0.1128179  0.19101731\n",
            "  0.         0.19101731 0.         0.1128179  0.19101731 0.\n",
            "  0.         0.         0.         0.19101731 0.19101731 0.\n",
            "  0.         0.14527359 0.         0.         0.19101731 0.14527359\n",
            "  0.         0.         0.         0.         0.         0.\n",
            "  0.1128179  0.         0.         0.19101731 0.1128179  0.19101731]\n",
            " [0.12715248 0.         0.         0.12715248 0.12715248 0.09670274\n",
            "  0.38145745 0.         0.         0.         0.         0.\n",
            "  0.09670274 0.         0.         0.15019661 0.         0.12715248\n",
            "  0.         0.         0.         0.12715248 0.29010822 0.12715248\n",
            "  0.         0.12715248 0.         0.         0.         0.\n",
            "  0.0750983  0.         0.         0.         0.         0.09670274\n",
            "  0.12715248 0.12715248 0.         0.         0.15019661 0.\n",
            "  0.19340548 0.         0.09670274 0.0750983  0.         0.12715248\n",
            "  0.12715248 0.         0.09670274 0.         0.         0.12715248\n",
            "  0.         0.19340548 0.12715248 0.09670274 0.         0.09670274\n",
            "  0.38145745 0.12715248 0.29010822 0.12715248 0.12715248 0.09670274\n",
            "  0.0750983  0.         0.25430497 0.         0.0750983  0.        ]\n",
            " [0.         0.13098774 0.13098774 0.         0.         0.09961955\n",
            "  0.         0.13098774 0.39296321 0.13098774 0.13098774 0.1992391\n",
            "  0.         0.         0.         0.15472693 0.         0.\n",
            "  0.13098774 0.         0.         0.         0.09961955 0.\n",
            "  0.13098774 0.         0.13098774 0.         0.13098774 0.13098774\n",
            "  0.07736347 0.13098774 0.         0.13098774 0.13098774 0.09961955\n",
            "  0.         0.         0.         0.         0.15472693 0.\n",
            "  0.1992391  0.         0.09961955 0.07736347 0.         0.\n",
            "  0.         0.39296321 0.1992391  0.         0.         0.\n",
            "  0.13098774 0.         0.         0.09961955 0.         0.\n",
            "  0.         0.         0.1992391  0.         0.         0.09961955\n",
            "  0.38681734 0.13098774 0.         0.         0.07736347 0.        ]]\n"
          ]
        }
      ]
    },
    {
      "cell_type": "markdown",
      "source": [
        "**COSINE** **SIMILARITY**"
      ],
      "metadata": {
        "id": "5AhDU44Q-pIV"
      }
    },
    {
      "cell_type": "code",
      "source": [
        "DOC12 = ['A computer network is a set of computers sharing resources located on or provided by network nodes. The computers use common communication protocols over digital interconnections to communicate with each other.',\n",
        "'An operating system (OS) is system software that manages computer hardware, software resources, and provides common services for computer programs. Time-sharing operating systems schedule tasks for efficient use of the system and may also include accounting software for cost allocation of processor time, mass storage, printing, and other resources.']"
      ],
      "metadata": {
        "id": "TdrqRu-78RBU"
      },
      "execution_count": 26,
      "outputs": []
    },
    {
      "cell_type": "code",
      "source": [
        "res2 = vectoriser.fit_transform(DOC12)\n",
        "\n",
        "cosinesimilarity = cosine_similarity(res2,res2)\n",
        "print(\"Cosine Similarity  : \")\n",
        "print(cosinesimilarity)"
      ],
      "metadata": {
        "colab": {
          "base_uri": "https://localhost:8080/"
        },
        "id": "fgf52g2s8eXG",
        "outputId": "77d7ac56-d1b0-4a84-ec55-3ea9112fcf8c"
      },
      "execution_count": 31,
      "outputs": [
        {
          "output_type": "stream",
          "name": "stdout",
          "text": [
            "Cosine Similarity  : \n",
            "[[1.         0.13117019]\n",
            " [0.13117019 1.        ]]\n"
          ]
        }
      ]
    }
  ]
}